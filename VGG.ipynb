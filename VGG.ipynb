{
 "cells": [
  {
   "cell_type": "code",
   "execution_count": null,
   "id": "0d2fba81",
   "metadata": {},
   "outputs": [],
   "source": [
    "\"\"\"\n",
    "VGG Architecture.\n",
    "\"\"\""
   ]
  }
 ],
 "metadata": {
  "language_info": {
   "name": "python"
  }
 },
 "nbformat": 4,
 "nbformat_minor": 5
}
